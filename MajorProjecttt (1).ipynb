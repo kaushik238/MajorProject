{
 "cells": [
  {
   "cell_type": "code",
   "execution_count": 28,
   "id": "7a342363-6e5c-463d-8102-5a6e34f9dfde",
   "metadata": {},
   "outputs": [],
   "source": [
    "import json\n",
    "import pytesseract\n",
    "import numpy as np\n",
    "import pandas as pd\n",
    "import seaborn as sns\n",
    "import matplotlib.pyplot as plt\n",
    "from PIL import Image\n",
    "import tensorflow as tf\n",
    "from tensorflow.keras.preprocessing.text import Tokenizer\n",
    "from tensorflow.keras.preprocessing.sequence import pad_sequences\n",
    "from tensorflow.keras.models import Sequential\n",
    "from tensorflow.keras.layers import Embedding, LSTM, Dense, Dropout\n",
    "from nltk.tokenize import word_tokenize\n",
    "from nltk.stem import WordNetLemmatizer\n",
    "from sklearn.feature_extraction.text import CountVectorizer, TfidfTransformer\n",
    "from sklearn.model_selection import train_test_split\n",
    "from sklearn.metrics import confusion_matrix, classification_report, roc_curve, auc\n",
    "from sklearn.ensemble import RandomForestClassifier\n",
    "\n",
    "# Specify the path to the tesseract executable (adjust to your system's path)\n",
    "pytesseract.pytesseract.tesseract_cmd = r'C:\\Program Files\\Tesseract-OCR\\tesseract.exe'  # Windows example\n",
    "\n",
    "# Load dataset\n",
    "def load_data(path):\n",
    "    df = pd.read_json(path, lines=True)\n",
    "    \n",
    "    df[\"label\"] = df.annotation.apply(lambda x: x.get('label'))\n",
    "    df[\"label\"] = df.label.apply(lambda x: x[0])\n",
    "    \n",
    "    X = df.content.values\n",
    "    y = df.label.values\n",
    "    \n",
    "    return X, y\n",
    "\n",
    "# Tokenization function\n",
    "def tokenize(text):\n",
    "    tokens = word_tokenize(text)\n",
    "    lemmatizer = WordNetLemmatizer()\n",
    "\n",
    "    clean_tokens = []\n",
    "    for tok in tokens:\n",
    "        clean_tok = lemmatizer.lemmatize(tok).lower().strip()\n",
    "        clean_tokens.append(clean_tok)\n",
    "\n",
    "    return clean_tokens\n"
   ]
  },
  {
   "cell_type": "code",
   "execution_count": 29,
   "id": "c046c41b-113f-4cdd-b6ec-03378c9cf889",
   "metadata": {
    "scrolled": true
   },
   "outputs": [
    {
     "data": {
      "text/html": [
       "<style>#sk-container-id-2 {color: black;background-color: white;}#sk-container-id-2 pre{padding: 0;}#sk-container-id-2 div.sk-toggleable {background-color: white;}#sk-container-id-2 label.sk-toggleable__label {cursor: pointer;display: block;width: 100%;margin-bottom: 0;padding: 0.3em;box-sizing: border-box;text-align: center;}#sk-container-id-2 label.sk-toggleable__label-arrow:before {content: \"▸\";float: left;margin-right: 0.25em;color: #696969;}#sk-container-id-2 label.sk-toggleable__label-arrow:hover:before {color: black;}#sk-container-id-2 div.sk-estimator:hover label.sk-toggleable__label-arrow:before {color: black;}#sk-container-id-2 div.sk-toggleable__content {max-height: 0;max-width: 0;overflow: hidden;text-align: left;background-color: #f0f8ff;}#sk-container-id-2 div.sk-toggleable__content pre {margin: 0.2em;color: black;border-radius: 0.25em;background-color: #f0f8ff;}#sk-container-id-2 input.sk-toggleable__control:checked~div.sk-toggleable__content {max-height: 200px;max-width: 100%;overflow: auto;}#sk-container-id-2 input.sk-toggleable__control:checked~label.sk-toggleable__label-arrow:before {content: \"▾\";}#sk-container-id-2 div.sk-estimator input.sk-toggleable__control:checked~label.sk-toggleable__label {background-color: #d4ebff;}#sk-container-id-2 div.sk-label input.sk-toggleable__control:checked~label.sk-toggleable__label {background-color: #d4ebff;}#sk-container-id-2 input.sk-hidden--visually {border: 0;clip: rect(1px 1px 1px 1px);clip: rect(1px, 1px, 1px, 1px);height: 1px;margin: -1px;overflow: hidden;padding: 0;position: absolute;width: 1px;}#sk-container-id-2 div.sk-estimator {font-family: monospace;background-color: #f0f8ff;border: 1px dotted black;border-radius: 0.25em;box-sizing: border-box;margin-bottom: 0.5em;}#sk-container-id-2 div.sk-estimator:hover {background-color: #d4ebff;}#sk-container-id-2 div.sk-parallel-item::after {content: \"\";width: 100%;border-bottom: 1px solid gray;flex-grow: 1;}#sk-container-id-2 div.sk-label:hover label.sk-toggleable__label {background-color: #d4ebff;}#sk-container-id-2 div.sk-serial::before {content: \"\";position: absolute;border-left: 1px solid gray;box-sizing: border-box;top: 0;bottom: 0;left: 50%;z-index: 0;}#sk-container-id-2 div.sk-serial {display: flex;flex-direction: column;align-items: center;background-color: white;padding-right: 0.2em;padding-left: 0.2em;position: relative;}#sk-container-id-2 div.sk-item {position: relative;z-index: 1;}#sk-container-id-2 div.sk-parallel {display: flex;align-items: stretch;justify-content: center;background-color: white;position: relative;}#sk-container-id-2 div.sk-item::before, #sk-container-id-2 div.sk-parallel-item::before {content: \"\";position: absolute;border-left: 1px solid gray;box-sizing: border-box;top: 0;bottom: 0;left: 50%;z-index: -1;}#sk-container-id-2 div.sk-parallel-item {display: flex;flex-direction: column;z-index: 1;position: relative;background-color: white;}#sk-container-id-2 div.sk-parallel-item:first-child::after {align-self: flex-end;width: 50%;}#sk-container-id-2 div.sk-parallel-item:last-child::after {align-self: flex-start;width: 50%;}#sk-container-id-2 div.sk-parallel-item:only-child::after {width: 0;}#sk-container-id-2 div.sk-dashed-wrapped {border: 1px dashed gray;margin: 0 0.4em 0.5em 0.4em;box-sizing: border-box;padding-bottom: 0.4em;background-color: white;}#sk-container-id-2 div.sk-label label {font-family: monospace;font-weight: bold;display: inline-block;line-height: 1.2em;}#sk-container-id-2 div.sk-label-container {text-align: center;}#sk-container-id-2 div.sk-container {/* jupyter's `normalize.less` sets `[hidden] { display: none; }` but bootstrap.min.css set `[hidden] { display: none !important; }` so we also need the `!important` here to be able to override the default hidden behavior on the sphinx rendered scikit-learn.org. See: https://github.com/scikit-learn/scikit-learn/issues/21755 */display: inline-block !important;position: relative;}#sk-container-id-2 div.sk-text-repr-fallback {display: none;}</style><div id=\"sk-container-id-2\" class=\"sk-top-container\"><div class=\"sk-text-repr-fallback\"><pre>RandomForestClassifier()</pre><b>In a Jupyter environment, please rerun this cell to show the HTML representation or trust the notebook. <br />On GitHub, the HTML representation is unable to render, please try loading this page with nbviewer.org.</b></div><div class=\"sk-container\" hidden><div class=\"sk-item\"><div class=\"sk-estimator sk-toggleable\"><input class=\"sk-toggleable__control sk-hidden--visually\" id=\"sk-estimator-id-2\" type=\"checkbox\" checked><label for=\"sk-estimator-id-2\" class=\"sk-toggleable__label sk-toggleable__label-arrow\">RandomForestClassifier</label><div class=\"sk-toggleable__content\"><pre>RandomForestClassifier()</pre></div></div></div></div></div>"
      ],
      "text/plain": [
       "RandomForestClassifier()"
      ]
     },
     "execution_count": 29,
     "metadata": {},
     "output_type": "execute_result"
    }
   ],
   "source": [
    "# Load and Split Data\n",
    "url = 'Dataset.json'\n",
    "X, y = load_data(url)\n",
    "\n",
    "# Splitting into 70-30 and 80-20 training-testing sets\n",
    "X_train_70, X_test_30, y_train_70, y_test_30 = train_test_split(X, y, test_size=0.3, random_state=42)\n",
    "X_train_80, X_test_20, y_train_80, y_test_20 = train_test_split(X, y, test_size=0.2, random_state=42)\n",
    "\n",
    "# Vectorization\n",
    "vect = CountVectorizer(tokenizer=tokenize, token_pattern=None)  # Set token_pattern=None to avoid the warning\n",
    "tfidf = TfidfTransformer()\n",
    "clf = RandomForestClassifier()  # RandomForestClassifier initialized without output\n",
    "\n",
    "# Train classifier for 70% training data\n",
    "X_train_counts = vect.fit_transform(X_train_70)\n",
    "X_train_tfidf = tfidf.fit_transform(X_train_counts)\n",
    "clf.fit(X_train_tfidf, y_train_70)\n"
   ]
  },
  {
   "cell_type": "code",
   "execution_count": 30,
   "id": "3e572661-2fb1-41ac-ac9c-744c4c76b1f8",
   "metadata": {},
   "outputs": [
    {
     "name": "stdout",
     "output_type": "stream",
     "text": [
      "\n",
      "--- Confusion Matrix (20% Testing Data) ---\n",
      "Labels: ['0' '1']\n",
      "Confusion Matrix:\n",
      " [[2314  110]\n",
      " [ 145 1432]]\n",
      "Accuracy: 0.9362659335166208\n"
     ]
    },
    {
     "data": {
      "image/png": "[encoded data removed]",
      "text/plain": [
       "<Figure size 600x500 with 2 Axes>"
      ]
     },
     "metadata": {},
     "output_type": "display_data"
    },
    {
     "name": "stdout",
     "output_type": "stream",
     "text": [
      "\n",
      "Classification Report:\n",
      "               precision    recall  f1-score   support\n",
      "\n",
      "           0       0.94      0.95      0.95      2424\n",
      "           1       0.93      0.91      0.92      1577\n",
      "\n",
      "    accuracy                           0.94      4001\n",
      "   macro avg       0.93      0.93      0.93      4001\n",
      "weighted avg       0.94      0.94      0.94      4001\n",
      "\n",
      "\n",
      "--- Confusion Matrix (30% Testing Data) ---\n",
      "Labels: ['0' '1']\n",
      "Confusion Matrix:\n",
      " [[3506  160]\n",
      " [ 214 2121]]\n",
      "Accuracy: 0.9376770538243626\n"
     ]
    },
    {
     "data": {
      "image/png": "[encoded data removed]",
      "text/plain": [
       "<Figure size 600x500 with 2 Axes>"
      ]
     },
     "metadata": {},
     "output_type": "display_data"
    },
    {
     "name": "stdout",
     "output_type": "stream",
     "text": [
      "\n",
      "Classification Report:\n",
      "               precision    recall  f1-score   support\n",
      "\n",
      "           0       0.94      0.96      0.95      3666\n",
      "           1       0.93      0.91      0.92      2335\n",
      "\n",
      "    accuracy                           0.94      6001\n",
      "   macro avg       0.94      0.93      0.93      6001\n",
      "weighted avg       0.94      0.94      0.94      6001\n",
      "\n"
     ]
    }
   ],
   "source": [
    "# Predictions for 20% testing set\n",
    "X_test_counts_20 = vect.transform(X_test_20)\n",
    "X_test_tfidf_20 = tfidf.transform(X_test_counts_20)\n",
    "y_pred_20 = clf.predict(X_test_tfidf_20)\n",
    "\n",
    "# Predictions for 30% testing set\n",
    "X_test_counts_30 = vect.transform(X_test_30)\n",
    "X_test_tfidf_30 = tfidf.transform(X_test_counts_30)\n",
    "y_pred_30 = clf.predict(X_test_tfidf_30)\n",
    "\n",
    "def display_results(y_test, y_pred):\n",
    "    labels = np.unique(np.concatenate((y_test, y_pred)))  # Ensure all labels are considered\n",
    "    confusion_mat = confusion_matrix(y_test, y_pred, labels=labels)\n",
    "    accuracy = (y_pred == y_test).mean()\n",
    "\n",
    "    print(\"Labels:\", labels)\n",
    "    print(\"Confusion Matrix:\\n\", confusion_mat)\n",
    "    print(\"Accuracy:\", accuracy)\n",
    "\n",
    "    # Plot Confusion Matrix with proper labels\n",
    "    plt.figure(figsize=(6, 5))\n",
    "    sns.heatmap(confusion_mat, annot=True, fmt=\"d\", cmap=\"viridis\", cbar=True, xticklabels=labels, yticklabels=labels)\n",
    "    plt.title(\"Confusion Matrix\")\n",
    "    plt.xlabel(\"Predicted Label\")\n",
    "    plt.ylabel(\"True Label\")\n",
    "    plt.show()\n",
    "    \n",
    "    # Classification Report\n",
    "    print(\"\\nClassification Report:\\n\", classification_report(y_test, y_pred))\n",
    "\n",
    "# Display results for 20% testing data\n",
    "print(\"\\n--- Confusion Matrix (20% Testing Data) ---\")\n",
    "display_results(y_test_20, y_pred_20)\n",
    "\n",
    "# Display results for 30% testing data\n",
    "print(\"\\n--- Confusion Matrix (30% Testing Data) ---\")\n",
    "display_results(y_test_30, y_pred_30)\n"
   ]
  },
  {
   "cell_type": "code",
   "execution_count": 31,
   "id": "2cf08b5c-5872-4503-9554-ecb7b6585fa7",
   "metadata": {},
   "outputs": [
    {
     "data": {
      "image/png": "[encoded data removed]",
      "text/plain": [
       "<Figure size 640x480 with 1 Axes>"
      ]
     },
     "metadata": {},
     "output_type": "display_data"
    }
   ],
   "source": [
    " # ROC Curve for 20% Testing Data\n",
    "y_prob_20 = clf.predict_proba(X_test_tfidf_20)[:, 1]\n",
    "fpr, tpr, _ = roc_curve(y_test_20, y_prob_20, pos_label=clf.classes_[1])\n",
    "roc_auc = auc(fpr, tpr)\n",
    "\n",
    "plt.figure()\n",
    "plt.plot(fpr, tpr, label=f\"ROC Curve (AUC = {roc_auc:.2f})\", color=\"blue\")\n",
    "plt.plot([0, 1], [0, 1], 'k--', linewidth=1)\n",
    "plt.xlabel('False Positive Rate')\n",
    "plt.ylabel('True Positive Rate')\n",
    "plt.title('ROC Curve (20% Testing Data)')\n",
    "plt.legend()\n",
    "plt.show()"
   ]
  },
  {
   "cell_type": "code",
   "execution_count": 51,
   "id": "000b153a-de48-4d70-b644-fa0027d1af93",
   "metadata": {},
   "outputs": [
    {
     "name": "stdout",
     "output_type": "stream",
     "text": [
      "\n",
      "Sample Prediction: ['1']\n",
      "\n"
     ]
    }
   ],
   "source": [
    "# Prediction Example\n",
    "X_test_counts_sample = vect.transform([\"the hormones are worse for guys.  I cant tell you how much I truly hate the thoughts that go through my head\"])  # Replace with a different example if needed\n",
    "X_test_tfidf_sample = tfidf.transform(X_test_counts_sample)\n",
    "print(\"\\nSample Prediction: {}\\n\".format(clf.predict(X_test_tfidf_sample)))"
   ]
  },
  {
   "cell_type": "code",
   "execution_count": 15,
   "id": "4cc6fe73-f4c8-43b1-abc7-cf997b996c74",
   "metadata": {},
   "outputs": [
    {
     "name": "stdout",
     "output_type": "stream",
     "text": [
      "Class distribution: Counter({0: 8513, 1: 5487})\n",
      "Epoch 1/20\n"
     ]
    },
    {
     "name": "stderr",
     "output_type": "stream",
     "text": [
      "C:\\Users\\Kaushik\\anaconda3\\Lib\\site-packages\\keras\\src\\layers\\core\\embedding.py:90: UserWarning: Argument `input_length` is deprecated. Just remove it.\n",
      "  warnings.warn(\n"
     ]
    },
    {
     "name": "stdout",
     "output_type": "stream",
     "text": [
      "\u001b[1m394/394\u001b[0m \u001b[32m━━━━━━━━━━━━━━━━━━━━\u001b[0m\u001b[37m\u001b[0m \u001b[1m22s\u001b[0m 45ms/step - accuracy: 0.5878 - loss: 2.4955 - val_accuracy: 0.7493 - val_loss: 0.5115\n",
      "Epoch 2/20\n",
      "\u001b[1m394/394\u001b[0m \u001b[32m━━━━━━━━━━━━━━━━━━━━\u001b[0m\u001b[37m\u001b[0m \u001b[1m17s\u001b[0m 43ms/step - accuracy: 0.7916 - loss: 1.6699 - val_accuracy: 0.7879 - val_loss: 0.4629\n",
      "Epoch 3/20\n",
      "\u001b[1m394/394\u001b[0m \u001b[32m━━━━━━━━━━━━━━━━━━━━\u001b[0m\u001b[37m\u001b[0m \u001b[1m19s\u001b[0m 49ms/step - accuracy: 0.8577 - loss: 1.2586 - val_accuracy: 0.8071 - val_loss: 0.4475\n",
      "Epoch 4/20\n",
      "\u001b[1m394/394\u001b[0m \u001b[32m━━━━━━━━━━━━━━━━━━━━\u001b[0m\u001b[37m\u001b[0m \u001b[1m19s\u001b[0m 47ms/step - accuracy: 0.9010 - loss: 0.9695 - val_accuracy: 0.8257 - val_loss: 0.4597\n",
      "Epoch 5/20\n",
      "\u001b[1m394/394\u001b[0m \u001b[32m━━━━━━━━━━━━━━━━━━━━\u001b[0m\u001b[37m\u001b[0m \u001b[1m19s\u001b[0m 47ms/step - accuracy: 0.9288 - loss: 0.7658 - val_accuracy: 0.8293 - val_loss: 0.4670\n",
      "Epoch 6/20\n",
      "\u001b[1m394/394\u001b[0m \u001b[32m━━━━━━━━━━━━━━━━━━━━\u001b[0m\u001b[37m\u001b[0m \u001b[1m18s\u001b[0m 45ms/step - accuracy: 0.9415 - loss: 0.6122 - val_accuracy: 0.8457 - val_loss: 0.4958\n",
      "Epoch 7/20\n",
      "\u001b[1m394/394\u001b[0m \u001b[32m━━━━━━━━━━━━━━━━━━━━\u001b[0m\u001b[37m\u001b[0m \u001b[1m19s\u001b[0m 49ms/step - accuracy: 0.9515 - loss: 0.4766 - val_accuracy: 0.8443 - val_loss: 0.6200\n",
      "Epoch 8/20\n",
      "\u001b[1m394/394\u001b[0m \u001b[32m━━━━━━━━━━━━━━━━━━━━\u001b[0m\u001b[37m\u001b[0m \u001b[1m19s\u001b[0m 48ms/step - accuracy: 0.9612 - loss: 0.4344 - val_accuracy: 0.8429 - val_loss: 0.6273\n",
      "\u001b[1m126/126\u001b[0m \u001b[32m━━━━━━━━━━━━━━━━━━━━\u001b[0m\u001b[37m\u001b[0m \u001b[1m2s\u001b[0m 14ms/step\n",
      "              precision    recall  f1-score   support\n",
      "\n",
      "           0       0.85      0.80      0.82      2424\n",
      "           1       0.72      0.79      0.75      1577\n",
      "\n",
      "    accuracy                           0.79      4001\n",
      "   macro avg       0.78      0.79      0.79      4001\n",
      "weighted avg       0.80      0.79      0.79      4001\n",
      "\n",
      "Extracted Text: You Gotta fuck up a couple times to really get it\n",
      "right | hate that about life\n",
      "\u001b[1m1/1\u001b[0m \u001b[32m━━━━━━━━━━━━━━━━━━━━\u001b[0m\u001b[37m\u001b[0m \u001b[1m0s\u001b[0m 32ms/step\n",
      "LSTM Prediction Probabilities: [[0.07582958 0.92417043]]\n",
      "LSTM Prediction: 1\n"
     ]
    }
   ],
   "source": [
    "import numpy as np\n",
    "from tensorflow.keras.preprocessing.text import Tokenizer\n",
    "from tensorflow.keras.preprocessing.sequence import pad_sequences\n",
    "from tensorflow.keras.models import Sequential\n",
    "from tensorflow.keras.layers import Embedding, LSTM, Dense, Dropout\n",
    "from tensorflow.keras.optimizers import Adam\n",
    "from tensorflow.keras.callbacks import EarlyStopping\n",
    "from sklearn.metrics import classification_report\n",
    "from collections import Counter\n",
    "\n",
    "# Hyperparameters\n",
    "max_words = 5000\n",
    "max_len = 100\n",
    "\n",
    "# Tokenizer\n",
    "tokenizer = Tokenizer(num_words=max_words, lower=True)\n",
    "tokenizer.fit_on_texts(X_train_70)\n",
    "\n",
    "# Convert texts to sequences\n",
    "X_train_seq = pad_sequences(tokenizer.texts_to_sequences(X_train_70), maxlen=max_len)\n",
    "X_test_seq = pad_sequences(tokenizer.texts_to_sequences(X_test_20), maxlen=max_len)\n",
    "\n",
    "# Convert labels to numerical format\n",
    "label_map = {label: idx for idx, label in enumerate(np.unique(y))}\n",
    "y_train_encoded = np.array([label_map[label] for label in y_train_70])\n",
    "y_test_encoded = np.array([label_map[label] for label in y_test_20])\n",
    "\n",
    "# Print class distribution\n",
    "print(f\"Class distribution: {Counter(y_train_encoded)}\")\n",
    "\n",
    "# Adjusted class weights\n",
    "class_weights = {0: 3.0, 1: 5.0}  # Increase class 0 weight\n",
    "\n",
    "# Build LSTM model\n",
    "model = Sequential([\n",
    "    Embedding(input_dim=max_words, output_dim=128, input_length=max_len),\n",
    "    LSTM(64, return_sequences=True),\n",
    "    Dropout(0.5),\n",
    "    LSTM(32),\n",
    "    Dense(32, activation='relu'),\n",
    "    Dropout(0.5),\n",
    "    Dense(len(label_map), activation='softmax')\n",
    "])\n",
    "\n",
    "# Compile the model\n",
    "optimizer = Adam(learning_rate=0.0005)  # Reduce learning rate\n",
    "model.compile(loss='sparse_categorical_crossentropy', optimizer=optimizer, metrics=['accuracy'])\n",
    "\n",
    "# Early stopping\n",
    "early_stopping = EarlyStopping(monitor='val_loss', patience=5, restore_best_weights=True)\n",
    "\n",
    "# Train the model\n",
    "model.fit(X_train_seq, y_train_encoded, epochs=20, batch_size=32, validation_split=0.1, class_weight=class_weights, callbacks=[early_stopping])\n",
    "\n",
    "# Evaluate on test set\n",
    "y_pred = model.predict(X_test_seq)\n",
    "y_pred_labels = np.argmax(y_pred, axis=1)\n",
    "\n",
    "# Display classification metrics\n",
    "print(classification_report(y_test_encoded, y_pred_labels, target_names=label_map.keys()))\n",
    "\n",
    "\n",
    "# Function to extract text from an image (example)\n",
    "def extract_text_from_image(image_path):\n",
    "    img = Image.open(image_path)\n",
    "    return pytesseract.image_to_string(img).strip()\n",
    "\n",
    "# Function to predict from the extracted image text\n",
    "def predict_from_image(image_path):\n",
    "    text = extract_text_from_image(image_path)\n",
    "    print(f\"Extracted Text: {text}\")  # Debug: Print extracted text\n",
    "    \n",
    "    # Random Forest Prediction (assuming clf, vect, tfidf are defined earlier)\n",
    "    X_test_counts_sample = vect.transform([text])\n",
    "    X_test_tfidf_sample = tfidf.transform(X_test_counts_sample)\n",
    "    rf_prediction = clf.predict(X_test_tfidf_sample)\n",
    "    \n",
    "    # LSTM Prediction\n",
    "    X_test_seq_sample = pad_sequences(tokenizer.texts_to_sequences([text]), maxlen=max_len)\n",
    "    lstm_prediction_probs = model.predict(X_test_seq_sample)  # Get prediction probabilities\n",
    "    lstm_prediction = np.argmax(lstm_prediction_probs, axis=1)\n",
    "    lstm_label = [key for key, val in label_map.items() if val == lstm_prediction[0]][0]\n",
    "    \n",
    "    # Debug: Print LSTM prediction probabilities\n",
    "    print(f\"LSTM Prediction Probabilities: {lstm_prediction_probs}\")\n",
    "    \n",
    "    return rf_prediction[0], lstm_label\n",
    "\n",
    "# Example usage of image prediction\n",
    "image_path = 'Image.jpg'\n",
    "rf_pred, lstm_pred = predict_from_image(image_path)\n",
    "print(f\"LSTM Prediction: {lstm_pred}\")\n"
   ]
  },
  {
   "cell_type": "code",
   "execution_count": 47,
   "id": "9ddda0b8-129e-4165-8198-2839f579ccf4",
   "metadata": {},
   "outputs": [
    {
     "name": "stdout",
     "output_type": "stream",
     "text": [
      "Class distribution: Counter({0: 8513, 1: 5487})\n",
      "Epoch 1/5\n"
     ]
    },
    {
     "name": "stderr",
     "output_type": "stream",
     "text": [
      "C:\\Users\\Kaushik\\anaconda3\\Lib\\site-packages\\keras\\src\\layers\\core\\embedding.py:90: UserWarning: Argument `input_length` is deprecated. Just remove it.\n",
      "  warnings.warn(\n"
     ]
    },
    {
     "name": "stdout",
     "output_type": "stream",
     "text": [
      "\u001b[1m394/394\u001b[0m \u001b[32m━━━━━━━━━━━━━━━━━━━━\u001b[0m\u001b[37m\u001b[0m \u001b[1m21s\u001b[0m 45ms/step - accuracy: 0.5702 - loss: 2.5106 - val_accuracy: 0.7164 - val_loss: 0.5411\n",
      "Epoch 2/5\n",
      "\u001b[1m394/394\u001b[0m \u001b[32m━━━━━━━━━━━━━━━━━━━━\u001b[0m\u001b[37m\u001b[0m \u001b[1m17s\u001b[0m 44ms/step - accuracy: 0.7865 - loss: 1.6779 - val_accuracy: 0.7757 - val_loss: 0.4612\n",
      "Epoch 3/5\n",
      "\u001b[1m394/394\u001b[0m \u001b[32m━━━━━━━━━━━━━━━━━━━━\u001b[0m\u001b[37m\u001b[0m \u001b[1m17s\u001b[0m 44ms/step - accuracy: 0.8480 - loss: 1.3342 - val_accuracy: 0.8021 - val_loss: 0.4590\n",
      "Epoch 4/5\n",
      "\u001b[1m394/394\u001b[0m \u001b[32m━━━━━━━━━━━━━━━━━━━━\u001b[0m\u001b[37m\u001b[0m \u001b[1m17s\u001b[0m 44ms/step - accuracy: 0.8990 - loss: 0.9724 - val_accuracy: 0.8179 - val_loss: 0.4550\n",
      "Epoch 5/5\n",
      "\u001b[1m394/394\u001b[0m \u001b[32m━━━━━━━━━━━━━━━━━━━━\u001b[0m\u001b[37m\u001b[0m \u001b[1m17s\u001b[0m 44ms/step - accuracy: 0.9243 - loss: 0.7657 - val_accuracy: 0.8343 - val_loss: 0.4890\n",
      "\u001b[1m126/126\u001b[0m \u001b[32m━━━━━━━━━━━━━━━━━━━━\u001b[0m\u001b[37m\u001b[0m \u001b[1m2s\u001b[0m 16ms/step\n",
      "              precision    recall  f1-score   support\n",
      "\n",
      "           0       0.90      0.79      0.84      2424\n",
      "           1       0.72      0.86      0.79      1577\n",
      "\n",
      "    accuracy                           0.82      4001\n",
      "   macro avg       0.81      0.82      0.81      4001\n",
      "weighted avg       0.83      0.82      0.82      4001\n",
      "\n",
      "Tokenized Input Sequence: [[   0    0    0    0    0    0    0    0    0    0    0    0    0    0\n",
      "     0    0    0    0    0    0    0    0    0    0    0    0    0    0\n",
      "     0    0    0    0    0    0    0    0    0    0    0    0    0    0\n",
      "     0    0    0    0    0    0    0    0    0    0    0    0    0    0\n",
      "     0    0    0    0    0    0    0    0    0    0    0    0    0    0\n",
      "     0    0    0    0    0    0    0    0    0    0    0    0    0    0\n",
      "     1  334  144    2   51   92    1 1201   61    3 1209    6   80  502\n",
      "    11  322]]\n",
      "\u001b[1m1/1\u001b[0m \u001b[32m━━━━━━━━━━━━━━━━━━━━\u001b[0m\u001b[37m\u001b[0m \u001b[1m0s\u001b[0m 48ms/step\n",
      "LSTM Prediction Probabilities: [[0.7011255  0.29887447]]\n",
      "LSTM Prediction: 0\n"
     ]
    }
   ],
   "source": [
    "import numpy as np\n",
    "from tensorflow.keras.preprocessing.text import Tokenizer\n",
    "from tensorflow.keras.preprocessing.sequence import pad_sequences\n",
    "from tensorflow.keras.models import Sequential\n",
    "from tensorflow.keras.layers import Embedding, LSTM, Dense, Dropout\n",
    "from tensorflow.keras.optimizers import Adam\n",
    "from tensorflow.keras.callbacks import EarlyStopping\n",
    "from sklearn.metrics import classification_report\n",
    "from collections import Counter\n",
    "\n",
    "# Hyperparameters\n",
    "max_words = 5000\n",
    "max_len = 100\n",
    "\n",
    "# Tokenizer\n",
    "tokenizer = Tokenizer(num_words=max_words, lower=True)\n",
    "tokenizer.fit_on_texts(X_train_70)\n",
    "\n",
    "# Convert texts to sequences\n",
    "X_train_seq = pad_sequences(tokenizer.texts_to_sequences(X_train_70), maxlen=max_len)\n",
    "X_test_seq = pad_sequences(tokenizer.texts_to_sequences(X_test_20), maxlen=max_len)\n",
    "\n",
    "# Convert labels to numerical format\n",
    "label_map = {label: idx for idx, label in enumerate(np.unique(y))}\n",
    "y_train_encoded = np.array([label_map[label] for label in y_train_70])\n",
    "y_test_encoded = np.array([label_map[label] for label in y_test_20])\n",
    "\n",
    "# Print class distribution\n",
    "print(f\"Class distribution: {Counter(y_train_encoded)}\")\n",
    "\n",
    "# Adjusted class weights\n",
    "class_weights = {0: 3.0, 1: 5.0}  # Increase class 0 weight\n",
    "\n",
    "# Build LSTM model\n",
    "model = Sequential([\n",
    "    Embedding(input_dim=max_words, output_dim=128, input_length=max_len),\n",
    "    LSTM(64, return_sequences=True),\n",
    "    Dropout(0.5),\n",
    "    LSTM(32),\n",
    "    Dense(32, activation='relu'),\n",
    "    Dropout(0.5),\n",
    "    Dense(len(label_map), activation='softmax')\n",
    "])\n",
    "\n",
    "# Compile the model\n",
    "optimizer = Adam(learning_rate=0.0005)  # Reduce learning rate\n",
    "model.compile(loss='sparse_categorical_crossentropy', optimizer=optimizer, metrics=['accuracy'])\n",
    "\n",
    "# Early stopping\n",
    "early_stopping = EarlyStopping(monitor='val_loss', patience=5, restore_best_weights=True)\n",
    "\n",
    "# Train the model\n",
    "model.fit(X_train_seq, y_train_encoded, epochs=5, batch_size=32, validation_split=0.1, class_weight=class_weights, callbacks=[early_stopping])\n",
    "\n",
    "# Evaluate on test set\n",
    "y_pred = model.predict(X_test_seq)\n",
    "y_pred_labels = np.argmax(y_pred, axis=1)\n",
    "\n",
    "# Display classification metrics\n",
    "print(classification_report(y_test_encoded, y_pred_labels, target_names=label_map.keys()))\n",
    "\n",
    "# Function to predict from text input\n",
    "def predict_from_text(text):\n",
    "    # Convert text to sequence\n",
    "    X_test_seq_sample = pad_sequences(tokenizer.texts_to_sequences([text]), maxlen=max_len)\n",
    "\n",
    "    # Debugging: Print tokenized sequence\n",
    "    print(f\"Tokenized Input Sequence: {X_test_seq_sample}\")\n",
    "\n",
    "    # Get LSTM model predictions\n",
    "    lstm_prediction_probs = model.predict(X_test_seq_sample)\n",
    "    \n",
    "    # Debugging: Print probability scores\n",
    "    print(f\"LSTM Prediction Probabilities: {lstm_prediction_probs}\")\n",
    "\n",
    "    # Apply thresholding: Predict 0 if probability > 0.5\n",
    "    predicted_class = np.argmax(lstm_prediction_probs, axis=1)[0]\n",
    "    predicted_prob = lstm_prediction_probs[0][predicted_class]\n",
    "\n",
    "    if predicted_class == 1 and lstm_prediction_probs[0][0] > 0.5:\n",
    "        predicted_class = 0  # Override if class 0 probability is high\n",
    "\n",
    "    lstm_label = [key for key, val in label_map.items() if val == predicted_class][0]\n",
    "\n",
    "    return lstm_label\n",
    "\n",
    "# Example test case\n",
    "text = \"I cant tell you how much I truly love the thoughts that go through my head.\"\n",
    "lstm_pred = predict_from_text(text)\n",
    "print(f\"LSTM Prediction: {lstm_pred}\")\n"
   ]
  },
  {
   "cell_type": "code",
   "execution_count": null,
   "id": "590db55f-1b1c-479d-9213-51b779d07eca",
   "metadata": {},
   "outputs": [],
   "source": []
  },
  {
   "cell_type": "code",
   "execution_count": null,
   "id": "9b0b3242-3bd1-4439-9b56-8757e25b467e",
   "metadata": {},
   "outputs": [],
   "source": []
  }
 ],
 "metadata": {
  "kernelspec": {
   "display_name": "Python 3 (ipykernel)",
   "language": "python",
   "name": "python3"
  },
  "language_info": {
   "codemirror_mode": {
    "name": "ipython",
    "version": 3
   },
   "file_extension": ".py",
   "mimetype": "text/x-python",
   "name": "python",
   "nbconvert_exporter": "python",
   "pygments_lexer": "ipython3",
   "version": "3.11.7"
  }
 },
 "nbformat": 4,
 "nbformat_minor": 5
}
